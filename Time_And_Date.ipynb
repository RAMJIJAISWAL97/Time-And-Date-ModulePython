{
  "nbformat": 4,
  "nbformat_minor": 0,
  "metadata": {
    "colab": {
      "name": "Time And Date.ipynb",
      "provenance": [],
      "authorship_tag": "ABX9TyP5ng932l/6S6dH3L0dTI1h",
      "include_colab_link": true
    },
    "kernelspec": {
      "name": "python3",
      "display_name": "Python 3"
    }
  },
  "cells": [
    {
      "cell_type": "markdown",
      "metadata": {
        "id": "view-in-github",
        "colab_type": "text"
      },
      "source": [
        "<a href=\"https://colab.research.google.com/github/RAMJIJAISWAL97/Time-And-Date-ModulePython/blob/master/Time_And_Date.ipynb\" target=\"_parent\"><img src=\"https://colab.research.google.com/assets/colab-badge.svg\" alt=\"Open In Colab\"/></a>"
      ]
    },
    {
      "cell_type": "code",
      "metadata": {
        "id": "uO72ZcVj20i3",
        "colab_type": "code",
        "colab": {
          "base_uri": "https://localhost:8080/",
          "height": 34
        },
        "outputId": "646e6649-ca59-4fee-9983-aec5476ff73f"
      },
      "source": [
        "import time\n",
        "time.time()"
      ],
      "execution_count": null,
      "outputs": [
        {
          "output_type": "execute_result",
          "data": {
            "text/plain": [
              "1578837311.5211587"
            ]
          },
          "metadata": {
            "tags": []
          },
          "execution_count": 49
        }
      ]
    },
    {
      "cell_type": "code",
      "metadata": {
        "id": "u8IuB8wX48Ge",
        "colab_type": "code",
        "colab": {
          "base_uri": "https://localhost:8080/",
          "height": 34
        },
        "outputId": "2037b104-0c24-438f-b82e-d0325c81e98e"
      },
      "source": [
        "time.ctime(1578834778.8765407)"
      ],
      "execution_count": null,
      "outputs": [
        {
          "output_type": "execute_result",
          "data": {
            "text/plain": [
              "'Sun Jan 12 13:12:58 2020'"
            ]
          },
          "metadata": {
            "tags": []
          },
          "execution_count": 5
        }
      ]
    },
    {
      "cell_type": "code",
      "metadata": {
        "id": "z4062xYB4-8V",
        "colab_type": "code",
        "colab": {}
      },
      "source": [
        "#help(time.time())"
      ],
      "execution_count": null,
      "outputs": []
    },
    {
      "cell_type": "code",
      "metadata": {
        "id": "JY3IFq435Ehk",
        "colab_type": "code",
        "colab": {
          "base_uri": "https://localhost:8080/",
          "height": 54
        },
        "outputId": "cefb0d44-1c19-4669-8d2e-61174c8cc4be"
      },
      "source": [
        "time.localtime()      #struct_time format ( 9 attributes)\n",
        "# year, mon,day, hr, min, sec, stringDay, year, isdst"
      ],
      "execution_count": null,
      "outputs": [
        {
          "output_type": "execute_result",
          "data": {
            "text/plain": [
              "time.struct_time(tm_year=2020, tm_mon=1, tm_mday=12, tm_hour=13, tm_min=14, tm_sec=0, tm_wday=6, tm_yday=12, tm_isdst=0)"
            ]
          },
          "metadata": {
            "tags": []
          },
          "execution_count": 7
        }
      ]
    },
    {
      "cell_type": "code",
      "metadata": {
        "id": "7naAligx5LLv",
        "colab_type": "code",
        "colab": {
          "base_uri": "https://localhost:8080/",
          "height": 34
        },
        "outputId": "a2648fc6-436b-418c-c76f-60fdf4542ce1"
      },
      "source": [
        "time.mktime(time.localtime())"
      ],
      "execution_count": null,
      "outputs": [
        {
          "output_type": "execute_result",
          "data": {
            "text/plain": [
              "1578835028.0"
            ]
          },
          "metadata": {
            "tags": []
          },
          "execution_count": 8
        }
      ]
    },
    {
      "cell_type": "code",
      "metadata": {
        "id": "e8Ht70lj55I1",
        "colab_type": "code",
        "colab": {
          "base_uri": "https://localhost:8080/",
          "height": 34
        },
        "outputId": "082156bc-2299-4715-c593-9251203b58d2"
      },
      "source": [
        "print(time.asctime(time.localtime()))"
      ],
      "execution_count": null,
      "outputs": [
        {
          "output_type": "stream",
          "text": [
            "Sun Jan 12 13:18:07 2020\n"
          ],
          "name": "stdout"
        }
      ]
    },
    {
      "cell_type": "code",
      "metadata": {
        "id": "plj5L1016Bl7",
        "colab_type": "code",
        "colab": {
          "base_uri": "https://localhost:8080/",
          "height": 34
        },
        "outputId": "9d09ed58-33d8-4882-fc42-9dff1027ec9e"
      },
      "source": [
        "a = time.strftime(\"%m/%d/%y\") # To set our required format\n",
        "print(a)"
      ],
      "execution_count": null,
      "outputs": [
        {
          "output_type": "stream",
          "text": [
            "01/12/20\n"
          ],
          "name": "stdout"
        }
      ]
    },
    {
      "cell_type": "code",
      "metadata": {
        "id": "OvMjlPqN6uw2",
        "colab_type": "code",
        "colab": {
          "base_uri": "https://localhost:8080/",
          "height": 54
        },
        "outputId": "f96c9e0b-1ab3-4e3c-bf47-57c2b4ea06b7"
      },
      "source": [
        "y = '08 August 2019'\n",
        "s = time.strptime(y,'%d %B %Y')  ## To set our given time into struct_time format\n",
        "print(s)"
      ],
      "execution_count": null,
      "outputs": [
        {
          "output_type": "stream",
          "text": [
            "time.struct_time(tm_year=2019, tm_mon=8, tm_mday=8, tm_hour=0, tm_min=0, tm_sec=0, tm_wday=3, tm_yday=220, tm_isdst=-1)\n"
          ],
          "name": "stdout"
        }
      ]
    },
    {
      "cell_type": "code",
      "metadata": {
        "id": "_REYEoUG65Kl",
        "colab_type": "code",
        "colab": {}
      },
      "source": [
        "# datetime Module\n",
        "\n",
        "import datetime as dt"
      ],
      "execution_count": null,
      "outputs": []
    },
    {
      "cell_type": "code",
      "metadata": {
        "id": "yiBSmz8r8Jf0",
        "colab_type": "code",
        "colab": {
          "base_uri": "https://localhost:8080/",
          "height": 34
        },
        "outputId": "0e88a3b9-5fa2-4789-f488-67943e525b40"
      },
      "source": [
        "s = dt.datetime(2020,1,11,9,56,45) # to set Date and Time\n",
        "print(s)"
      ],
      "execution_count": null,
      "outputs": [
        {
          "output_type": "stream",
          "text": [
            "2020-01-11 09:56:45\n"
          ],
          "name": "stdout"
        }
      ]
    },
    {
      "cell_type": "code",
      "metadata": {
        "id": "Q0jr_4ls8Wp0",
        "colab_type": "code",
        "colab": {
          "base_uri": "https://localhost:8080/",
          "height": 34
        },
        "outputId": "e963f9e1-1bc8-48aa-b082-475dc7ab926c"
      },
      "source": [
        "dt.datetime.today()"
      ],
      "execution_count": null,
      "outputs": [
        {
          "output_type": "execute_result",
          "data": {
            "text/plain": [
              "datetime.datetime(2020, 1, 12, 13, 29, 45, 353599)"
            ]
          },
          "metadata": {
            "tags": []
          },
          "execution_count": 22
        }
      ]
    },
    {
      "cell_type": "code",
      "metadata": {
        "id": "vHYpMZki8tPM",
        "colab_type": "code",
        "colab": {}
      },
      "source": [
        "d = dt.datetime.now()"
      ],
      "execution_count": null,
      "outputs": []
    },
    {
      "cell_type": "code",
      "metadata": {
        "id": "xoedTGQj824t",
        "colab_type": "code",
        "colab": {
          "base_uri": "https://localhost:8080/",
          "height": 121
        },
        "outputId": "e711488c-64fb-41e7-b04e-1de4ee1fbfab"
      },
      "source": [
        "print(d.year)\n",
        "print(d.month)\n",
        "print(d.day)\n",
        "print(d.hour)\n",
        "print(d.second)\n",
        "print(d.microsecond)"
      ],
      "execution_count": null,
      "outputs": [
        {
          "output_type": "stream",
          "text": [
            "2020\n",
            "1\n",
            "12\n",
            "13\n",
            "50\n",
            "286007\n"
          ],
          "name": "stdout"
        }
      ]
    },
    {
      "cell_type": "code",
      "metadata": {
        "id": "pDW8y0kN9Oe9",
        "colab_type": "code",
        "colab": {
          "base_uri": "https://localhost:8080/",
          "height": 34
        },
        "outputId": "ca261231-4b33-4c23-b7c2-aee4bc77b148"
      },
      "source": [
        "dt.date(2000,7,8)\n",
        "dt.time(23,59,0)\n",
        "dt.datetime.date"
      ],
      "execution_count": null,
      "outputs": [
        {
          "output_type": "execute_result",
          "data": {
            "text/plain": [
              "<method 'date' of 'datetime.datetime' objects>"
            ]
          },
          "metadata": {
            "tags": []
          },
          "execution_count": 32
        }
      ]
    },
    {
      "cell_type": "code",
      "metadata": {
        "id": "jVPQ2oer9t6O",
        "colab_type": "code",
        "colab": {}
      },
      "source": [
        "d1 = datetime.timedelta(days = 24,seconds = 2)\n",
        "d2 = datetime.timedelta(days = 5,seconds = 56)"
      ],
      "execution_count": null,
      "outputs": []
    },
    {
      "cell_type": "code",
      "metadata": {
        "id": "wAhD8Av2-XgO",
        "colab_type": "code",
        "colab": {
          "base_uri": "https://localhost:8080/",
          "height": 34
        },
        "outputId": "1672b065-757f-46d6-fd7a-e4055bcffe87"
      },
      "source": [
        "b = d1 - d2\n",
        "print(b)"
      ],
      "execution_count": null,
      "outputs": [
        {
          "output_type": "stream",
          "text": [
            "18 days, 23:59:06\n"
          ],
          "name": "stdout"
        }
      ]
    },
    {
      "cell_type": "code",
      "metadata": {
        "id": "L4t8cqqU-hZ1",
        "colab_type": "code",
        "colab": {
          "base_uri": "https://localhost:8080/",
          "height": 69
        },
        "outputId": "bcb86b86-f1f1-4a12-9d1c-0de33ec21d72"
      },
      "source": [
        "day  = dt.datetime.today()\n",
        "print(day.day)\n",
        "print(day.year)\n",
        "print(day.microsecond)"
      ],
      "execution_count": null,
      "outputs": [
        {
          "output_type": "stream",
          "text": [
            "12\n",
            "2020\n",
            "961632\n"
          ],
          "name": "stdout"
        }
      ]
    },
    {
      "cell_type": "code",
      "metadata": {
        "id": "hN2VqTue_lN8",
        "colab_type": "code",
        "colab": {
          "base_uri": "https://localhost:8080/",
          "height": 34
        },
        "outputId": "b370a1d9-ba1e-4f6c-9c86-9929e0e28735"
      },
      "source": [
        "print(day.strftime('%A, %B, %d, %Y')) # To print full format"
      ],
      "execution_count": null,
      "outputs": [
        {
          "output_type": "stream",
          "text": [
            "Sunday, January, 12, 2020\n"
          ],
          "name": "stdout"
        }
      ]
    },
    {
      "cell_type": "code",
      "metadata": {
        "id": "NLXH78KAARj9",
        "colab_type": "code",
        "colab": {
          "base_uri": "https://localhost:8080/",
          "height": 34
        },
        "outputId": "8a6532d8-166e-4e38-c9f3-adb4804bbef8"
      },
      "source": [
        "msg = \"Dewali is on {:%A,  %B, %d , %Y}.\"\n",
        "print(msg.format(day))"
      ],
      "execution_count": null,
      "outputs": [
        {
          "output_type": "stream",
          "text": [
            "Dewali is on Sunday,  January, 12 , 2020.\n"
          ],
          "name": "stdout"
        }
      ]
    },
    {
      "cell_type": "code",
      "metadata": {
        "id": "_E54YKWYAr6l",
        "colab_type": "code",
        "colab": {}
      },
      "source": [
        "import argparse as arg\n",
        "arg = arg.ArgumentParser()"
      ],
      "execution_count": null,
      "outputs": []
    },
    {
      "cell_type": "code",
      "metadata": {
        "id": "KZXaIpF4B7f0",
        "colab_type": "code",
        "colab": {}
      },
      "source": [
        ""
      ],
      "execution_count": null,
      "outputs": []
    }
  ]
}